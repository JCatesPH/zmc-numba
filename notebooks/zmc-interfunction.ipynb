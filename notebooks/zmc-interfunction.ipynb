{
 "cells": [
  {
   "cell_type": "code",
   "execution_count": 24,
   "metadata": {},
   "outputs": [],
   "source": [
    "import math\n",
    "from numba import cuda\n",
    "import ZMCIntegral\n",
    "import numpy as np"
   ]
  },
  {
   "cell_type": "code",
   "execution_count": 25,
   "metadata": {},
   "outputs": [],
   "source": [
    "@cuda.jit(device=True)\n",
    "def foo(x1, x2, x3, x4):\n",
    "    return x1 + x2 + x3 + x4\n"
   ]
  },
  {
   "cell_type": "code",
   "execution_count": 26,
   "metadata": {},
   "outputs": [],
   "source": [
    "@cuda.jit(device=True)\n",
    "def foo2(y):\n",
    "    val = foo(y[0],y[1],y[2],y[3])\n",
    "    return val**2"
   ]
  },
  {
   "cell_type": "code",
   "execution_count": 30,
   "metadata": {},
   "outputs": [],
   "source": [
    "\n",
    "MC = ZMCIntegral.MCintegral(foo2,[[0,1],[0,1],[0,1],[0,1]])\n",
    "\n",
    "# Setting the zmcintegral parameters\n",
    "MC.depth = 2\n",
    "MC.sigma_multiplication = 20\n",
    "MC.num_trials = 3\n",
    "MC.available_GPU=[0]\n"
   ]
  },
  {
   "cell_type": "code",
   "execution_count": 31,
   "metadata": {},
   "outputs": [
    {
     "name": "stdout",
     "output_type": "stream",
     "text": [
      "\n",
      "========================================================\n",
      "\n",
      "depth =  2\n",
      "sigma_multiplication =  20\n",
      "num_trials =  3\n",
      "available_GPU =  [0]\n",
      "\n",
      "========================================================\n"
     ]
    }
   ],
   "source": [
    "print('\\n========================================================')\n",
    "print('\\ndepth = ', MC.depth)\n",
    "print('sigma_multiplication = ', MC.sigma_multiplication)\n",
    "print('num_trials = ', MC.num_trials)\n",
    "print('available_GPU = ', MC.available_GPU)\n",
    "print('\\n========================================================')"
   ]
  },
  {
   "cell_type": "code",
   "execution_count": 32,
   "metadata": {},
   "outputs": [
    {
     "name": "stdout",
     "output_type": "stream",
     "text": [
      "0 hypercube(s) need(s) to be recalculated, to save time, try drastically increasing sigma_multiplication.\n"
     ]
    }
   ],
   "source": [
    "# Evaluating the integral\n",
    "result = MC.evaluate()"
   ]
  },
  {
   "cell_type": "code",
   "execution_count": 35,
   "metadata": {},
   "outputs": [
    {
     "name": "stdout",
     "output_type": "stream",
     "text": [
      "\n",
      "========================================================\n",
      "\n",
      "Integration is complete!\n",
      "\n",
      "========================================================\n",
      "Integration of (x1+x2+x3+x4)**2:\n",
      "Result:  4.333335005271684\n",
      "std.  :  2.4539300718795254e-06\n",
      "\n",
      "========================================================\n"
     ]
    }
   ],
   "source": [
    "print('\\n========================================================')\n",
    "print('\\nIntegration is complete!')\n",
    "print('\\n========================================================')\n",
    "print('Integration of (x1+x2+x3+x4)**2:')\n",
    "print('Result: ', result[0])\n",
    "print('std.  : ', result[1])\n",
    "print('\\n========================================================')"
   ]
  },
  {
   "cell_type": "code",
   "execution_count": null,
   "metadata": {},
   "outputs": [],
   "source": []
  }
 ],
 "metadata": {
  "kernelspec": {
   "display_name": "Python 3",
   "language": "python",
   "name": "python3"
  },
  "language_info": {
   "codemirror_mode": {
    "name": "ipython",
    "version": 3
   },
   "file_extension": ".py",
   "mimetype": "text/x-python",
   "name": "python",
   "nbconvert_exporter": "python",
   "pygments_lexer": "ipython3",
   "version": "3.6.8"
  }
 },
 "nbformat": 4,
 "nbformat_minor": 2
}
