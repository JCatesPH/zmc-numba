{
 "cells": [
  {
   "cell_type": "markdown",
   "metadata": {},
   "source": [
    "# Translation of Bessel function from FORTRAN to Python"
   ]
  },
  {
   "cell_type": "code",
   "execution_count": 5,
   "metadata": {},
   "outputs": [],
   "source": [
    "import math\n",
    "import scipy\n",
    "import numpy as np\n",
    "from scipy import special"
   ]
  },
  {
   "cell_type": "markdown",
   "metadata": {},
   "source": [
    "Importing is done, and the general function is below."
   ]
  },
  {
   "cell_type": "code",
   "execution_count": 2,
   "metadata": {},
   "outputs": [],
   "source": [
    "def besselj(n, x):\n",
    "    IACC = 40\n",
    "    BIGNO = 1e10\n",
    "    BIGNI = 1e-10\n",
    "    \n",
    "    if(n == 0):\n",
    "        return bessj0(x)\n",
    "    \n",
    "    if(n == 1):\n",
    "        return bessj1(x)\n",
    "    \n",
    "    if(x == 0):\n",
    "        return 0\n",
    "    \n",
    "    tox = 2./x\n",
    "    \n",
    "    if(x > n):\n",
    "        bjm = bessj0(x)\n",
    "        bj = bessj1(x)\n",
    "        for i in range(1,N-1):\n",
    "            bjp = i * tox * bj - bjm\n",
    "            bjm = bj\n",
    "            bj = bjp\n",
    "        bessj = bj\n",
    "    else:\n",
    "        m = n + math.sqrt(IACC * n)\n",
    "        \n",
    "        bessj = 0\n",
    "        jsum = 0\n",
    "        bsum = 0\n",
    "        bjp = 0\n",
    "        bj = 1\n",
    "        \n",
    "        for i in range(m, 1, -1):\n",
    "            bjm = i * tox * bj - bjp\n",
    "            bjp = bj\n",
    "            bj = bjm\n",
    "            \n",
    "            if(abs(bj) > BIGNO):\n",
    "                bj = bj * BIGNI\n",
    "                bjp = bjp * BIGNI\n",
    "                bessj = bessj * BIGNI\n",
    "                bsum = bsum * BIGNI\n",
    "            \n",
    "            if(jsum != 0):\n",
    "                bsum = bsum + bj\n",
    "            \n",
    "            jsum = 1 - jsum\n",
    "            \n",
    "            if(i == n):\n",
    "                bessj = bjp\n",
    "                \n",
    "        bsum = 2 * bsum - bj\n",
    "        bessj = bessj / bsum\n",
    "    \n",
    "    return bessj"
   ]
  },
  {
   "cell_type": "code",
   "execution_count": 3,
   "metadata": {},
   "outputs": [],
   "source": [
    "def bessj0(x):\n",
    "    P = [1e0,-.1098628627e-2,.2734510407e-4, -.2073370639e-5,.2093887211e-6]\n",
    "    Q = [-.1562499995e-1,.1430488765e-3, -.6911147651e-5,.7621095161e-6,-.9349451520e-7]\n",
    "    R = [57568490574e0,-13362590354e0, 651619640.7e0,-11214424.18e0,77392.33017e0,-184.9052456e0]\n",
    "    S = [57568490411e0,1029532985e0, 9494680.718e0,59272.64853e0,267.8532712e0,1e0]\n",
    "    \n",
    "    if(x == 0):\n",
    "        return 1e0\n",
    "        \n",
    "    ax = abs(x)\n",
    "    \n",
    "    if(ax < 8):\n",
    "        y = x ** 2\n",
    "        \n",
    "        FR = R[0] + y * (R[1] + y * (R[2] + y * (R[3] + y * (R[4] + y * R[5]))))\n",
    "        FS = S[0] + y * (S[1] + y * (S[2] + y * (S[3] + y * (S[4] + y * S[5]))))\n",
    "        \n",
    "        bessj0 = FR / FS\n",
    "        \n",
    "    else:\n",
    "        z = 8 / ax\n",
    "        y = z ** 2\n",
    "        xx = ax - .785398164\n",
    "        \n",
    "        FP = P[0] + y * (P[1] + y * (P[2] + y * (P[3] + y * P[4])))\n",
    "        FQ = Q[0] + y * (Q[1] + y * (Q[2] + y * (Q[3] + y * Q[4])))\n",
    "        \n",
    "        bessj0 = math.sqrt(.636619772 / ax) * (FP * math.cos(xx) - z * FQ * math.sin(xx))\n",
    "        \n",
    "    return bessj0\n",
    "    \n",
    "\n",
    "def bessj1(x):\n",
    "    P = [1e0,.183105e-2,-.3516396496e-4,.2457520174e-5,-.240337019e-6, .636619772e0]\n",
    "    Q = [.04687499995e0,-.2002690873e-3, .8449199096e-5,-.88228987e-6,.105787412e-6]\n",
    "    R = [72362614232e0,-7895059235e0, 242396853.1e0,-2972611.439e0,15704.48260e0,-30.16036606e0]\n",
    "    S = [144725228442e0,2300535178e0, 18583304.74e0,99447.43394e0,376.9991397e0,1e0]\n",
    "    \n",
    "    ax = abs(x)\n",
    "    \n",
    "    if(ax < 8):\n",
    "        y = x ** 2\n",
    "        \n",
    "        FR = R[0] + y * (R[1] + y * (R[2] + y * (R[3] + y * (R[4] + y * R[5]))))\n",
    "        FS = S[0] + y * (S[1] + y * (S[2] + y * (S[3] + y * (S[4] + y * S[5]))))\n",
    "        \n",
    "        bessj1 = x * FR / FS\n",
    "        \n",
    "    else:\n",
    "        z = 8 / ax\n",
    "        y = z ** 2\n",
    "        xx = ax - 2.35619491\n",
    "        \n",
    "        FP = P[0] + y * (P[1] + y * (P[2] + y * (P[3] + y * P[4])))\n",
    "        FQ = Q[0] + y * (Q[1] + y * (Q[2] + y * (Q[3] + y * Q[4])))\n",
    "        \n",
    "        bessj1 = math.sqrt(P[5] / ax) * (math.cos(xx) * FP - z * math.sin(xx) * FQ) * abs(S[5]) * (x / ax)\n",
    "        \n",
    "    return bessj1"
   ]
  },
  {
   "cell_type": "code",
   "execution_count": 7,
   "metadata": {},
   "outputs": [
    {
     "name": "stdout",
     "output_type": "stream",
     "text": [
      "-0.06604332795908473\n",
      "-0.06604332802354924\n"
     ]
    }
   ],
   "source": [
    "test = besselj(1, 4)\n",
    "official = scipy.special.jv(1,4)\n",
    "\n",
    "print(test)\n",
    "print(official)"
   ]
  },
  {
   "cell_type": "code",
   "execution_count": null,
   "metadata": {},
   "outputs": [],
   "source": []
  }
 ],
 "metadata": {
  "kernelspec": {
   "display_name": "Python 3",
   "language": "python",
   "name": "python3"
  },
  "language_info": {
   "codemirror_mode": {
    "name": "ipython",
    "version": 3
   },
   "file_extension": ".py",
   "mimetype": "text/x-python",
   "name": "python",
   "nbconvert_exporter": "python",
   "pygments_lexer": "ipython3",
   "version": "3.6.8"
  }
 },
 "nbformat": 4,
 "nbformat_minor": 2
}
