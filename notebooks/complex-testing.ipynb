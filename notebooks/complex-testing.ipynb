{
 "cells": [
  {
   "cell_type": "code",
   "execution_count": 1,
   "metadata": {},
   "outputs": [],
   "source": [
    "import math\n",
    "from numba import cuda\n",
    "import ZMCIntegral\n",
    "import numpy as np"
   ]
  },
  {
   "cell_type": "code",
   "execution_count": 16,
   "metadata": {},
   "outputs": [],
   "source": [
    "def foo(x1, x2):\n",
    "    return complex(x1,x2)\n"
   ]
  },
  {
   "cell_type": "code",
   "execution_count": 17,
   "metadata": {},
   "outputs": [],
   "source": [
    "@cuda.jit(device=True)\n",
    "def f_real(y):\n",
    "    val = foo(y[0], y[1])\n",
    "    realval = val.real\n",
    "    return val\n",
    "\n",
    "@cuda.jit(device=True)\n",
    "def f_imag(y):\n",
    "    val = foo(y[0], y[1])\n",
    "    imagval = val.imag\n",
    "    return val\n"
   ]
  },
  {
   "cell_type": "code",
   "execution_count": 18,
   "metadata": {},
   "outputs": [],
   "source": [
    "\n",
    "MC_real = ZMCIntegral.MCintegral(f_real,[[0,1],[0,1]])\n",
    "\n",
    "# Setting the zmcintegral parameters\n",
    "MC_real.depth = 2\n",
    "MC_real.sigma_multiplication = 4\n",
    "MC_real.num_trials = 3\n",
    "MC_real.available_GPU=[0]\n",
    "\n",
    "MC_imag = ZMCIntegral.MCintegral(f_imag,[[0,1],[0,1]])\n",
    "\n",
    "# Setting the zmcintegral parameters\n",
    "MC_imag.depth = 2\n",
    "MC_imag.sigma_multiplication = 4\n",
    "MC_imag.num_trials = 3\n",
    "MC_imag.available_GPU=[0]"
   ]
  },
  {
   "cell_type": "code",
   "execution_count": 19,
   "metadata": {},
   "outputs": [
    {
     "name": "stdout",
     "output_type": "stream",
     "text": [
      "\n",
      "========================================================\n",
      "\n",
      "depth =  2\n",
      "sigma_multiplication =  4\n",
      "num_trials =  3\n",
      "available_GPU =  [0]\n",
      "\n",
      "========================================================\n"
     ]
    }
   ],
   "source": [
    "print('\\n========================================================')\n",
    "print('\\ndepth = ', MC_real.depth)\n",
    "print('sigma_multiplication = ', MC_real.sigma_multiplication)\n",
    "print('num_trials = ', MC_real.num_trials)\n",
    "print('available_GPU = ', MC_real.available_GPU)\n",
    "print('\\n========================================================')"
   ]
  },
  {
   "cell_type": "code",
   "execution_count": 20,
   "metadata": {},
   "outputs": [
    {
     "name": "stderr",
     "output_type": "stream",
     "text": [
      "Process Process-12:\n",
      "Traceback (most recent call last):\n",
      "  File \"/home/jalenc/.conda/envs/ZMCIntegral/lib/python3.6/site-packages/numba/targets/base.py\", line 691, in cast\n",
      "    impl = self._casts.find((fromty, toty))\n",
      "  File \"/home/jalenc/.conda/envs/ZMCIntegral/lib/python3.6/site-packages/numba/targets/base.py\", line 50, in find\n",
      "    out = self._find(sig)\n",
      "  File \"/home/jalenc/.conda/envs/ZMCIntegral/lib/python3.6/site-packages/numba/targets/base.py\", line 59, in _find\n",
      "    raise NotImplementedError(self, sig)\n",
      "NotImplementedError: (<numba.targets.base.OverloadSelector object at 0x7f748802b668>, (complex128, float64))\n",
      "\n",
      "During handling of the above exception, another exception occurred:\n",
      "\n",
      "Traceback (most recent call last):\n",
      "  File \"/home/jalenc/.conda/envs/ZMCIntegral/lib/python3.6/site-packages/numba/errors.py\", line 627, in new_error_context\n",
      "    yield\n",
      "  File \"/home/jalenc/.conda/envs/ZMCIntegral/lib/python3.6/site-packages/numba/lowering.py\", line 258, in lower_block\n",
      "    self.lower_inst(inst)\n",
      "  File \"/home/jalenc/.conda/envs/ZMCIntegral/lib/python3.6/site-packages/numba/lowering.py\", line 301, in lower_inst\n",
      "    val = self.lower_assign(ty, inst)\n",
      "  File \"/home/jalenc/.conda/envs/ZMCIntegral/lib/python3.6/site-packages/numba/lowering.py\", line 454, in lower_assign\n",
      "    return self.lower_expr(ty, value)\n",
      "  File \"/home/jalenc/.conda/envs/ZMCIntegral/lib/python3.6/site-packages/numba/lowering.py\", line 913, in lower_expr\n",
      "    res = self.lower_call(resty, expr)\n",
      "  File \"/home/jalenc/.conda/envs/ZMCIntegral/lib/python3.6/site-packages/numba/lowering.py\", line 706, in lower_call\n",
      "    res = self._lower_call_normal(fnty, expr, signature)\n",
      "  File \"/home/jalenc/.conda/envs/ZMCIntegral/lib/python3.6/site-packages/numba/lowering.py\", line 875, in _lower_call_normal\n",
      "    fnty, signature, expr.args, expr.vararg, expr.kws,\n",
      "  File \"/home/jalenc/.conda/envs/ZMCIntegral/lib/python3.6/site-packages/numba/lowering.py\", line 630, in fold_call_args\n",
      "    for var, sigty in zip(pos_args, signature.args)]\n",
      "  File \"/home/jalenc/.conda/envs/ZMCIntegral/lib/python3.6/site-packages/numba/lowering.py\", line 630, in <listcomp>\n",
      "    for var, sigty in zip(pos_args, signature.args)]\n",
      "  File \"/home/jalenc/.conda/envs/ZMCIntegral/lib/python3.6/site-packages/numba/lowering.py\", line 612, in _cast_var\n",
      "    return self.context.cast(self.builder, val, varty, ty)\n",
      "  File \"/home/jalenc/.conda/envs/ZMCIntegral/lib/python3.6/site-packages/numba/targets/base.py\", line 695, in cast\n",
      "    \"Cannot cast %s to %s: %s\" % (fromty, toty, val))\n",
      "NotImplementedError: Cannot cast complex128 to float64: %\".1680\" = load {double, double}, {double, double}* %\"$246.8\"\n",
      "\n",
      "During handling of the above exception, another exception occurred:\n",
      "\n",
      "Traceback (most recent call last):\n",
      "  File \"/home/jalenc/.conda/envs/ZMCIntegral/lib/python3.6/multiprocessing/process.py\", line 258, in _bootstrap\n",
      "    self.run()\n",
      "  File \"/home/jalenc/.conda/envs/ZMCIntegral/lib/python3.6/multiprocessing/process.py\", line 93, in run\n",
      "    self._target(*self._args, **self._kwargs)\n",
      "  File \"/home/jalenc/github/my-phys-util/ZMCIntegral/ZMCIntegral.py\", line 111, in multi_processing\n",
      "    result.append(self.MCkernel(domain, i_batch))\n",
      "  File \"/home/jalenc/github/my-phys-util/ZMCIntegral/ZMCIntegral.py\", line 373, in MCkernel\n",
      "    integration_kernel[blockspergrid, threadsperblock](num_loops,                                                           MCresult,                                                           chunk_size,                                                           n_chunk_x,                                                           domain,                                                           domain_range,                                                           batch_size,                                                           i_batch,                                                           rng_states,                                                           n_chunk)\n",
      "  File \"/home/jalenc/.conda/envs/ZMCIntegral/lib/python3.6/site-packages/numba/cuda/compiler.py\", line 765, in __call__\n",
      "    kernel = self.specialize(*args)\n",
      "  File \"/home/jalenc/.conda/envs/ZMCIntegral/lib/python3.6/site-packages/numba/cuda/compiler.py\", line 776, in specialize\n",
      "    kernel = self.compile(argtypes)\n",
      "  File \"/home/jalenc/.conda/envs/ZMCIntegral/lib/python3.6/site-packages/numba/cuda/compiler.py\", line 792, in compile\n",
      "    **self.targetoptions)\n",
      "  File \"/home/jalenc/.conda/envs/ZMCIntegral/lib/python3.6/site-packages/numba/compiler_lock.py\", line 32, in _acquire_compile_lock\n",
      "    return func(*args, **kwargs)\n",
      "  File \"/home/jalenc/.conda/envs/ZMCIntegral/lib/python3.6/site-packages/numba/cuda/compiler.py\", line 62, in compile_kernel\n",
      "    cres = compile_cuda(pyfunc, types.void, args, debug=debug, inline=inline)\n",
      "  File \"/home/jalenc/.conda/envs/ZMCIntegral/lib/python3.6/site-packages/numba/compiler_lock.py\", line 32, in _acquire_compile_lock\n",
      "    return func(*args, **kwargs)\n",
      "  File \"/home/jalenc/.conda/envs/ZMCIntegral/lib/python3.6/site-packages/numba/cuda/compiler.py\", line 51, in compile_cuda\n",
      "    locals={})\n",
      "  File \"/home/jalenc/.conda/envs/ZMCIntegral/lib/python3.6/site-packages/numba/compiler_lock.py\", line 32, in _acquire_compile_lock\n",
      "    return func(*args, **kwargs)\n",
      "  File \"/home/jalenc/.conda/envs/ZMCIntegral/lib/python3.6/site-packages/numba/compiler.py\", line 941, in compile_extra\n",
      "    return pipeline.compile_extra(func)\n",
      "  File \"/home/jalenc/.conda/envs/ZMCIntegral/lib/python3.6/site-packages/numba/compiler.py\", line 372, in compile_extra\n",
      "    return self._compile_bytecode()\n",
      "  File \"/home/jalenc/.conda/envs/ZMCIntegral/lib/python3.6/site-packages/numba/compiler.py\", line 872, in _compile_bytecode\n",
      "    return self._compile_core()\n",
      "  File \"/home/jalenc/.conda/envs/ZMCIntegral/lib/python3.6/site-packages/numba/compiler.py\", line 859, in _compile_core\n",
      "    res = pm.run(self.status)\n",
      "  File \"/home/jalenc/.conda/envs/ZMCIntegral/lib/python3.6/site-packages/numba/compiler.py\", line 253, in run\n",
      "    raise patched_exception\n",
      "  File \"/home/jalenc/.conda/envs/ZMCIntegral/lib/python3.6/site-packages/numba/compiler.py\", line 244, in run\n",
      "    stage()\n",
      "  File \"/home/jalenc/.conda/envs/ZMCIntegral/lib/python3.6/site-packages/numba/compiler.py\", line 731, in stage_nopython_backend\n",
      "    self._backend(lowerfn, objectmode=False)\n",
      "  File \"/home/jalenc/.conda/envs/ZMCIntegral/lib/python3.6/site-packages/numba/compiler.py\", line 681, in _backend\n",
      "    lowered = lowerfn()\n",
      "  File \"/home/jalenc/.conda/envs/ZMCIntegral/lib/python3.6/site-packages/numba/compiler.py\", line 668, in backend_nopython_mode\n",
      "    self.metadata)\n",
      "  File \"/home/jalenc/.conda/envs/ZMCIntegral/lib/python3.6/site-packages/numba/compiler.py\", line 1063, in native_lowering_stage\n",
      "    lower.lower()\n",
      "  File \"/home/jalenc/.conda/envs/ZMCIntegral/lib/python3.6/site-packages/numba/lowering.py\", line 177, in lower\n",
      "    self.lower_normal_function(self.fndesc)\n",
      "  File \"/home/jalenc/.conda/envs/ZMCIntegral/lib/python3.6/site-packages/numba/lowering.py\", line 218, in lower_normal_function\n",
      "    entry_block_tail = self.lower_function_body()\n",
      "  File \"/home/jalenc/.conda/envs/ZMCIntegral/lib/python3.6/site-packages/numba/lowering.py\", line 243, in lower_function_body\n",
      "    self.lower_block(block)\n",
      "  File \"/home/jalenc/.conda/envs/ZMCIntegral/lib/python3.6/site-packages/numba/lowering.py\", line 258, in lower_block\n",
      "    self.lower_inst(inst)\n",
      "  File \"/home/jalenc/.conda/envs/ZMCIntegral/lib/python3.6/contextlib.py\", line 99, in __exit__\n",
      "    self.gen.throw(type, value, traceback)\n",
      "  File \"/home/jalenc/.conda/envs/ZMCIntegral/lib/python3.6/site-packages/numba/errors.py\", line 635, in new_error_context\n",
      "    six.reraise(type(newerr), newerr, tb)\n",
      "  File \"/home/jalenc/.conda/envs/ZMCIntegral/lib/python3.6/site-packages/numba/six.py\", line 659, in reraise\n",
      "    raise value\n",
      "numba.errors.LoweringError: Failed in nopython mode pipeline (step: nopython mode backend)\n",
      "Cannot cast complex128 to float64: %\".1680\" = load {double, double}, {double, double}* %\"$246.8\"\n",
      "\n",
      "File \"ZMCIntegral.py\", line 365:\n",
      "        def integration_kernel(num_loops,                               MCresult,                               chunk_size,                               n_chunk_x,                               domain,                               domain_range,                               batch_size,                               i_batch,                               rng_states,                               n_chunk):\n",
      "            <source elided>\n",
      "                        # feed in values to user defined function\n",
      "                        cuda.atomic.add(MCresult, thread_id, fun(x_tuple))\n",
      "                        ^\n",
      "\n",
      "[1] During: lowering \"$246.9 = call $246.3(MCresult, thread_id, $246.8, func=$246.3, args=[Var(MCresult, /home/jalenc/github/my-phys-util/ZMCIntegral/ZMCIntegral.py (337)), Var(thread_id, /home/jalenc/github/my-phys-util/ZMCIntegral/ZMCIntegral.py (337)), Var($246.8, /home/jalenc/github/my-phys-util/ZMCIntegral/ZMCIntegral.py (365))], kws=(), vararg=None)\" at /home/jalenc/github/my-phys-util/ZMCIntegral/ZMCIntegral.py (365)\n"
     ]
    },
    {
     "ename": "FileNotFoundError",
     "evalue": "[Errno 2] No such file or directory: '/home/jalenc/github/my-phys-util/ZMCIntegral/multi_temp/result0.npy'",
     "output_type": "error",
     "traceback": [
      "\u001b[0;31m---------------------------------------------------------------------------\u001b[0m",
      "\u001b[0;31mFileNotFoundError\u001b[0m                         Traceback (most recent call last)",
      "\u001b[0;32m<ipython-input-20-19322298e82f>\u001b[0m in \u001b[0;36m<module>\u001b[0;34m\u001b[0m\n\u001b[1;32m      1\u001b[0m \u001b[0;31m# Evaluating the integral\u001b[0m\u001b[0;34m\u001b[0m\u001b[0;34m\u001b[0m\u001b[0;34m\u001b[0m\u001b[0m\n\u001b[0;32m----> 2\u001b[0;31m \u001b[0mreal_result\u001b[0m \u001b[0;34m=\u001b[0m \u001b[0mMC_real\u001b[0m\u001b[0;34m.\u001b[0m\u001b[0mevaluate\u001b[0m\u001b[0;34m(\u001b[0m\u001b[0;34m)\u001b[0m\u001b[0;34m\u001b[0m\u001b[0;34m\u001b[0m\u001b[0m\n\u001b[0m\u001b[1;32m      3\u001b[0m \u001b[0mimag_result\u001b[0m \u001b[0;34m=\u001b[0m \u001b[0mMC_imag\u001b[0m\u001b[0;34m.\u001b[0m\u001b[0mevaluate\u001b[0m\u001b[0;34m(\u001b[0m\u001b[0;34m)\u001b[0m\u001b[0;34m\u001b[0m\u001b[0;34m\u001b[0m\u001b[0m\n",
      "\u001b[0;32m~/github/my-phys-util/ZMCIntegral/ZMCIntegral.py\u001b[0m in \u001b[0;36mevaluate\u001b[0;34m(self)\u001b[0m\n\u001b[1;32m     72\u001b[0m     \u001b[0;32mdef\u001b[0m \u001b[0mevaluate\u001b[0m\u001b[0;34m(\u001b[0m\u001b[0mself\u001b[0m\u001b[0;34m)\u001b[0m\u001b[0;34m:\u001b[0m\u001b[0;34m\u001b[0m\u001b[0;34m\u001b[0m\u001b[0m\n\u001b[1;32m     73\u001b[0m         \u001b[0mself\u001b[0m\u001b[0;34m.\u001b[0m\u001b[0mconfigure_chunks\u001b[0m\u001b[0;34m(\u001b[0m\u001b[0;34m)\u001b[0m\u001b[0;34m\u001b[0m\u001b[0;34m\u001b[0m\u001b[0m\n\u001b[0;32m---> 74\u001b[0;31m         \u001b[0mMCresult\u001b[0m \u001b[0;34m=\u001b[0m \u001b[0mself\u001b[0m\u001b[0;34m.\u001b[0m\u001b[0mimportance_sampling_iteration\u001b[0m\u001b[0;34m(\u001b[0m\u001b[0mself\u001b[0m\u001b[0;34m.\u001b[0m\u001b[0minitial_domain\u001b[0m\u001b[0;34m,\u001b[0m \u001b[0;36m0\u001b[0m\u001b[0;34m)\u001b[0m\u001b[0;34m\u001b[0m\u001b[0;34m\u001b[0m\u001b[0m\n\u001b[0m\u001b[1;32m     75\u001b[0m \u001b[0;34m\u001b[0m\u001b[0m\n\u001b[1;32m     76\u001b[0m         \u001b[0;32mreturn\u001b[0m \u001b[0mMCresult\u001b[0m\u001b[0;34m\u001b[0m\u001b[0;34m\u001b[0m\u001b[0m\n",
      "\u001b[0;32m~/github/my-phys-util/ZMCIntegral/ZMCIntegral.py\u001b[0m in \u001b[0;36mimportance_sampling_iteration\u001b[0;34m(self, domain, depth)\u001b[0m\n\u001b[1;32m     78\u001b[0m     \u001b[0;32mdef\u001b[0m \u001b[0mimportance_sampling_iteration\u001b[0m\u001b[0;34m(\u001b[0m\u001b[0mself\u001b[0m\u001b[0;34m,\u001b[0m \u001b[0mdomain\u001b[0m\u001b[0;34m,\u001b[0m \u001b[0mdepth\u001b[0m\u001b[0;34m)\u001b[0m\u001b[0;34m:\u001b[0m\u001b[0;34m\u001b[0m\u001b[0;34m\u001b[0m\u001b[0m\n\u001b[1;32m     79\u001b[0m         \u001b[0mdepth\u001b[0m \u001b[0;34m+=\u001b[0m \u001b[0;36m1\u001b[0m\u001b[0;34m\u001b[0m\u001b[0;34m\u001b[0m\u001b[0m\n\u001b[0;32m---> 80\u001b[0;31m         \u001b[0mMCresult_chunks\u001b[0m\u001b[0;34m,\u001b[0m \u001b[0mlarge_std_chunk_id\u001b[0m\u001b[0;34m,\u001b[0m \u001b[0mMCresult_std_chunks\u001b[0m \u001b[0;34m=\u001b[0m \u001b[0mself\u001b[0m\u001b[0;34m.\u001b[0m\u001b[0mMCevaluate\u001b[0m\u001b[0;34m(\u001b[0m\u001b[0mdomain\u001b[0m\u001b[0;34m)\u001b[0m\u001b[0;34m\u001b[0m\u001b[0;34m\u001b[0m\u001b[0m\n\u001b[0m\u001b[1;32m     81\u001b[0m         \u001b[0mprint\u001b[0m\u001b[0;34m(\u001b[0m\u001b[0;34m'{} hypercube(s) need(s) to be recalculated, to save time, try drastically increasing sigma_multiplication.'\u001b[0m\u001b[0;34m.\u001b[0m\u001b[0mformat\u001b[0m\u001b[0;34m(\u001b[0m\u001b[0mlen\u001b[0m\u001b[0;34m(\u001b[0m\u001b[0mlarge_std_chunk_id\u001b[0m\u001b[0;34m)\u001b[0m\u001b[0;34m)\u001b[0m\u001b[0;34m)\u001b[0m\u001b[0;34m\u001b[0m\u001b[0;34m\u001b[0m\u001b[0m\n\u001b[1;32m     82\u001b[0m         \u001b[0;32mif\u001b[0m \u001b[0mdepth\u001b[0m \u001b[0;34m<\u001b[0m \u001b[0mself\u001b[0m\u001b[0;34m.\u001b[0m\u001b[0mdepth\u001b[0m\u001b[0;34m:\u001b[0m\u001b[0;34m\u001b[0m\u001b[0;34m\u001b[0m\u001b[0m\n",
      "\u001b[0;32m~/github/my-phys-util/ZMCIntegral/ZMCIntegral.py\u001b[0m in \u001b[0;36mMCevaluate\u001b[0;34m(self, domain)\u001b[0m\n\u001b[1;32m    128\u001b[0m         \u001b[0mMCresult_std\u001b[0m \u001b[0;34m=\u001b[0m \u001b[0;34m[\u001b[0m\u001b[0;34m]\u001b[0m\u001b[0;34m\u001b[0m\u001b[0;34m\u001b[0m\u001b[0m\n\u001b[1;32m    129\u001b[0m         \u001b[0;32mfor\u001b[0m \u001b[0mi_batch\u001b[0m \u001b[0;32min\u001b[0m \u001b[0mrange\u001b[0m\u001b[0;34m(\u001b[0m\u001b[0mself\u001b[0m\u001b[0;34m.\u001b[0m\u001b[0mn_batches\u001b[0m\u001b[0;34m)\u001b[0m\u001b[0;34m:\u001b[0m\u001b[0;34m\u001b[0m\u001b[0;34m\u001b[0m\u001b[0m\n\u001b[0;32m--> 130\u001b[0;31m             \u001b[0mMCresult\u001b[0m\u001b[0;34m.\u001b[0m\u001b[0mappend\u001b[0m\u001b[0;34m(\u001b[0m\u001b[0mnp\u001b[0m\u001b[0;34m.\u001b[0m\u001b[0mload\u001b[0m\u001b[0;34m(\u001b[0m\u001b[0mos\u001b[0m\u001b[0;34m.\u001b[0m\u001b[0mgetcwd\u001b[0m\u001b[0;34m(\u001b[0m\u001b[0;34m)\u001b[0m\u001b[0;34m+\u001b[0m\u001b[0;34m'/multi_temp/result'\u001b[0m\u001b[0;34m+\u001b[0m\u001b[0mstr\u001b[0m\u001b[0;34m(\u001b[0m\u001b[0mi_batch\u001b[0m\u001b[0;34m)\u001b[0m\u001b[0;34m+\u001b[0m\u001b[0;34m'.npy'\u001b[0m\u001b[0;34m)\u001b[0m\u001b[0;34m)\u001b[0m\u001b[0;34m\u001b[0m\u001b[0;34m\u001b[0m\u001b[0m\n\u001b[0m\u001b[1;32m    131\u001b[0m             \u001b[0mMCresult_std\u001b[0m\u001b[0;34m.\u001b[0m\u001b[0mappend\u001b[0m\u001b[0;34m(\u001b[0m\u001b[0mnp\u001b[0m\u001b[0;34m.\u001b[0m\u001b[0mload\u001b[0m\u001b[0;34m(\u001b[0m\u001b[0mos\u001b[0m\u001b[0;34m.\u001b[0m\u001b[0mgetcwd\u001b[0m\u001b[0;34m(\u001b[0m\u001b[0;34m)\u001b[0m\u001b[0;34m+\u001b[0m\u001b[0;34m'/multi_temp/result_std'\u001b[0m\u001b[0;34m+\u001b[0m\u001b[0mstr\u001b[0m\u001b[0;34m(\u001b[0m\u001b[0mi_batch\u001b[0m\u001b[0;34m)\u001b[0m\u001b[0;34m+\u001b[0m\u001b[0;34m'.npy'\u001b[0m\u001b[0;34m)\u001b[0m\u001b[0;34m)\u001b[0m\u001b[0;34m\u001b[0m\u001b[0;34m\u001b[0m\u001b[0m\n\u001b[1;32m    132\u001b[0m \u001b[0;34m\u001b[0m\u001b[0m\n",
      "\u001b[0;32m~/.conda/envs/ZMCIntegral/lib/python3.6/site-packages/numpy/lib/npyio.py\u001b[0m in \u001b[0;36mload\u001b[0;34m(file, mmap_mode, allow_pickle, fix_imports, encoding)\u001b[0m\n\u001b[1;32m    420\u001b[0m         \u001b[0mown_fid\u001b[0m \u001b[0;34m=\u001b[0m \u001b[0;32mFalse\u001b[0m\u001b[0;34m\u001b[0m\u001b[0;34m\u001b[0m\u001b[0m\n\u001b[1;32m    421\u001b[0m     \u001b[0;32melse\u001b[0m\u001b[0;34m:\u001b[0m\u001b[0;34m\u001b[0m\u001b[0;34m\u001b[0m\u001b[0m\n\u001b[0;32m--> 422\u001b[0;31m         \u001b[0mfid\u001b[0m \u001b[0;34m=\u001b[0m \u001b[0mopen\u001b[0m\u001b[0;34m(\u001b[0m\u001b[0mos_fspath\u001b[0m\u001b[0;34m(\u001b[0m\u001b[0mfile\u001b[0m\u001b[0;34m)\u001b[0m\u001b[0;34m,\u001b[0m \u001b[0;34m\"rb\"\u001b[0m\u001b[0;34m)\u001b[0m\u001b[0;34m\u001b[0m\u001b[0;34m\u001b[0m\u001b[0m\n\u001b[0m\u001b[1;32m    423\u001b[0m         \u001b[0mown_fid\u001b[0m \u001b[0;34m=\u001b[0m \u001b[0;32mTrue\u001b[0m\u001b[0;34m\u001b[0m\u001b[0;34m\u001b[0m\u001b[0m\n\u001b[1;32m    424\u001b[0m \u001b[0;34m\u001b[0m\u001b[0m\n",
      "\u001b[0;31mFileNotFoundError\u001b[0m: [Errno 2] No such file or directory: '/home/jalenc/github/my-phys-util/ZMCIntegral/multi_temp/result0.npy'"
     ]
    }
   ],
   "source": [
    "# Evaluating the integral\n",
    "real_result = MC_real.evaluate()\n",
    "imag_result = MC_imag.evaluate()"
   ]
  },
  {
   "cell_type": "code",
   "execution_count": null,
   "metadata": {},
   "outputs": [],
   "source": [
    "print('\\n========================================================')\n",
    "print('Integration is complete!')\n",
    "print('\\n========================================================')\n",
    "print('REAL PART:')\n",
    "print('Result: ', real_result[0])\n",
    "print('std.  : ', real_result[1])\n",
    "print('IMAG PART:')\n",
    "print('Result: ', imag_result[0])\n",
    "print('std.  : ', imag_result[1])\n",
    "print('\\n========================================================')"
   ]
  }
 ],
 "metadata": {
  "kernelspec": {
   "display_name": "Python 3",
   "language": "python",
   "name": "python3"
  },
  "language_info": {
   "codemirror_mode": {
    "name": "ipython",
    "version": 3
   },
   "file_extension": ".py",
   "mimetype": "text/x-python",
   "name": "python",
   "nbconvert_exporter": "python",
   "pygments_lexer": "ipython3",
   "version": "3.6.8"
  }
 },
 "nbformat": 4,
 "nbformat_minor": 2
}
