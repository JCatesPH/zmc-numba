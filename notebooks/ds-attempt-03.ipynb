{
 "cells": [
  {
   "cell_type": "markdown",
   "metadata": {},
   "source": [
    "# # Attempt to evaluate the integral of the function given by Dr. Tse using ZMCintegral\n",
    "#  The information given is here:\n",
    "Mahmoud:\n",
    "\"The integrand is Ds(kx,ky,qx,qy)/(2*pi)^3, and the limits of integration are kx=[-pi/a,pi/a],ky=[-pi/a,pi/a] , qx=[-pi/a,pi/a] and qy=[-pi/a,pi/a].\"\n",
    "\"For qx and qy it is more efficient to use qx=[0.001,pi/a] and qy=0, because of the symmetry of the problem. kx and ky should be as we said before kx=[-pi/a,pi/a],ky=[-pi/a,pi/a].\"\n",
    "\n",
    "Dr. Tse: \n",
    "\"Hi Jalen, what we need is a plot of the integrated result as a function of qx. My postdoc Mahmoud has a plot for that he obtained previously from another integration method that we can compare your MC results with. \""
   ]
  },
  {
   "cell_type": "code",
   "execution_count": 1,
   "metadata": {},
   "outputs": [],
   "source": [
    "#!/home/jmcates/miniconda3/envs/zmcint/bin/python\n",
    "# coding: utf-8\n",
    "\n",
    "# # Proper interpreter:\n",
    "# /share/apps/python_shared/3.6.5/bin/python\n",
    "\n",
    "# The import statements\n",
    "import math\n",
    "from numba import cuda\n",
    "import ZMCIntegral\n",
    "import time\n",
    "import numpy as np\n",
    "import scipy\n",
    "import scipy.special\n",
    "from scipy.integrate import quad"
   ]
  },
  {
   "cell_type": "markdown",
   "metadata": {},
   "source": [
    "Define constants in function"
   ]
  },
  {
   "cell_type": "code",
   "execution_count": 23,
   "metadata": {},
   "outputs": [],
   "source": [
    "mu = 0.1  # Fermi-level\n",
    "hOmg = 0.5  # Photon energy eV\n",
    "a = 4  # AA\n",
    "A = 4  # hbar^2/(2m)=4 evAA^2 (for free electron mass)\n",
    "rati = 0.3  # ratio\n",
    "eE0 = rati * ((hOmg) ** 2) / (2 * np.sqrt(A * mu))\n",
    "# print(eE0)\n",
    "Gamm = 0.005  # Gamma in eV.\n",
    "KT = 1 * 10 ** (-6)\n",
    "shift = A * (eE0 / hOmg) ** 2"
   ]
  },
  {
   "cell_type": "markdown",
   "metadata": {},
   "source": [
    "Function given with slight modification. I replaced all calls to kx, ky, qx, and qy with x[0], x[1], x[2], and x[3] respectively. This modification effectively \"vectorizes\" the input."
   ]
  },
  {
   "cell_type": "code",
   "execution_count": 46,
   "metadata": {},
   "outputs": [],
   "source": [
    "@cuda.jit()\n",
    "def modDs_real(x):\n",
    "    N = 1\n",
    "    dds = 0\n",
    "    ds = 0\n",
    "    ek = A * (math.sqrt((x[0]) ** 2 + (x[1]) ** 2)) ** 2 + A * (eE0 / hOmg) ** 2\n",
    "    ekq = A * (math.sqrt((x[0] + x[2]) ** 2 + (x[1] + x[3]) ** 2)) ** 2 + A * (eE0 / hOmg) ** 2\n",
    "    xk = 2 * A * eE0 * math.sqrt((x[0]) ** 2 + (x[1]) ** 2) / hOmg ** 2\n",
    "    xkq = 2 * A * eE0 * math.sqrt((x[0] + x[2]) ** 2 + (x[1] + x[3]) ** 2) / hOmg ** 2\n",
    "\n",
    "    # arange is unsupported function in numba. This array will need to be adjusted for different values of N.\n",
    "    # sing = np.arange(-(N - 1) / 2, (N - 1) / 2 + 1, 1)\n",
    "    sing = np.array([0.])\n",
    "    taninv1kp = 2 * np.arctan2(Gamm, ek - hOmg / 2 + hOmg * sing)\n",
    "    taninv1kqp = 2 * np.arctan2(Gamm, ekq - hOmg / 2 + hOmg * sing)\n",
    "    taninv1km = 2 * np.arctan2(Gamm, ek + hOmg / 2 + hOmg * sing)\n",
    "    taninv1kqm = 2 * np.arctan2(Gamm, ekq + hOmg / 2 + hOmg * sing)\n",
    "\n",
    "    lg1kp = complex(0, 1) * np.log(Gamm ** 2 + (ek - hOmg / 2 + hOmg * sing) ** 2)\n",
    "    lg1kqp = complex(0, 1) * np.log(Gamm ** 2 + (ekq - hOmg / 2 + hOmg * sing) ** 2)\n",
    "    lg1km = complex(0, 1) * np.log(Gamm ** 2 + (ek + hOmg / 2 + hOmg * sing) ** 2)\n",
    "    lg1kqm = complex(0, 1) * np.log(Gamm ** 2 + (ekq + hOmg / 2 + hOmg * sing) ** 2)\n",
    "\n",
    "    ferp = np.heaviside(mu - hOmg / 2 - hOmg * sing, 0)\n",
    "    ferm = np.heaviside(mu + hOmg / 2 - hOmg * sing, 0)\n",
    "\n",
    "    dbl = np.arange(-(N - 1), (N - 1) + 1, 1)\n",
    "    taninv2k = 2 * np.arctan2(Gamm, ek - mu + hOmg * dbl)\n",
    "    taninv2kq = 2 * np.arctan2(Gamm, ekq - mu + hOmg * dbl)\n",
    "\n",
    "    lg2k = complex(0, 1) * np.log(Gamm ** 2 + (ek - mu + hOmg * dbl) ** 2)\n",
    "    lg2kq = complex(0, 1) * np.log(Gamm ** 2 + (ekq - mu + hOmg * dbl) ** 2)\n",
    "\n",
    "    besk = scipy.special.jv(dbl, xk)\n",
    "    beskq = scipy.special.jv(dbl, xkq)\n",
    "\n",
    "    fac1 = ek - ekq + hOmg * dbl\n",
    "    fac2 = fac1 + 2 * complex(0, 1) * Gamm\n",
    "    fac3 = fac2 - ek + ekq\n",
    "\n",
    "    for n in range(0, N):\n",
    "        for alpha in range(0, N):\n",
    "            for beta in range(0, N):\n",
    "                for gamma in range(0, N):\n",
    "                    for s in range(0, N):\n",
    "                        for l in range(0, N):\n",
    "                            p1p = fac1[beta - gamma + N - 1] * (\n",
    "                                    taninv1kp[alpha] - taninv2k[s + alpha] - lg1kp[alpha] + lg2k[s + alpha])\n",
    "                            p2p = fac2[alpha - gamma + N - 1] * (\n",
    "                                    taninv1kp[beta] - taninv2k[s + beta] + lg1kp[beta] - lg2k[s + beta])\n",
    "                            p3p = fac3[alpha - beta + N - 1] * (\n",
    "                                    -taninv1kqp[gamma] + taninv2kq[s + gamma] - lg1kqp[gamma] + lg2kq[\n",
    "                                s + gamma])\n",
    "\n",
    "                            p1m = fac1[beta - gamma + N - 1] * (\n",
    "                                    taninv1km[alpha] - taninv2k[s + alpha] - lg1km[alpha] + lg2k[s + alpha])\n",
    "\n",
    "                            p2m = fac2[alpha - gamma + N - 1] * (\n",
    "                                    taninv1km[beta] - taninv2k[s + beta] + lg1km[beta] - lg2k[s + beta])\n",
    "\n",
    "                            p3m = fac3[alpha - beta + N - 1] * (\n",
    "                                    -taninv1kqm[gamma] + taninv2kq[s + gamma] - lg1kqm[gamma] + lg2kq[\n",
    "                                s + gamma])\n",
    "\n",
    "                            d1 = -2 * complex(0, 1) * fac1[beta - gamma + N - 1] * fac2[alpha - gamma + N - 1] * \\\n",
    "                                 fac3[\n",
    "                                     alpha - beta + N - 1]\n",
    "\n",
    "                            omint1p = ferp[s] * ((p1p + p2p + p3p) / d1)\n",
    "\n",
    "                            omint1m = ferm[s] * ((p1m + p2m + p3m) / d1)\n",
    "\n",
    "                            bess1 = beskq[gamma - n + N - 1] * beskq[gamma - l + N - 1] * besk[beta - l + N - 1] * besk[\n",
    "                                beta - s + N - 1] * besk[alpha - s + N - 1] * besk[alpha - n + N - 1]\n",
    "\n",
    "                            grgl = bess1 * (omint1p - omint1m)\n",
    "\n",
    "                            pp1p = fac1[alpha - beta + N - 1] * (\n",
    "                                    -taninv1kqp[gamma] + taninv2kq[s + gamma] - lg1kqp[gamma] + lg2kq[\n",
    "                                s + gamma])\n",
    "\n",
    "                            pp2p = fac2[alpha - gamma + N - 1] * (\n",
    "                                    -taninv1kqp[beta] + taninv2kq[s + beta] + lg1kqp[beta] - lg2kq[\n",
    "                                s + beta])\n",
    "\n",
    "                            pp3p = fac3[beta - gamma + N - 1] * (\n",
    "                                    taninv1kp[alpha] - taninv2k[s + alpha] - lg1kp[alpha] + lg2k[s + alpha])\n",
    "\n",
    "                            pp1m = fac1[alpha - beta + N - 1] * (\n",
    "                                    -taninv1kqm[gamma] + taninv2kq[s + gamma] - lg1kqm[gamma] + lg2kq[\n",
    "                                s + gamma])\n",
    "\n",
    "                            pp2m = fac2[alpha - gamma + N - 1] * (\n",
    "                                    -taninv1kqm[beta] + taninv2kq[s + beta] + lg1kqm[beta] - lg2kq[\n",
    "                                s + beta])\n",
    "\n",
    "                            pp3m = fac3[beta - gamma + N - 1] * (\n",
    "                                    taninv1km[alpha] - taninv2k[s + alpha] - lg1km[alpha] + lg2k[s + alpha])\n",
    "\n",
    "                            d2 = -2 * complex(0, 1) * fac1[alpha - beta + N - 1] * fac2[alpha - gamma + N - 1] * \\\n",
    "                                 fac3[\n",
    "                                     beta - gamma + N - 1]\n",
    "\n",
    "                            omint2p = ferp[s] * ((pp1p + pp2p + pp3p) / d2)\n",
    "\n",
    "                            omint2m = ferm[s] * ((pp1m + pp2m + pp3m) / d2)\n",
    "\n",
    "                            bess2 = beskq[gamma - n + N - 1] * beskq[gamma - s + N - 1] * beskq[beta - s + N - 1] * \\\n",
    "                                    beskq[beta - l + N - 1] * besk[alpha - l + N - 1] * besk[alpha - n + N - 1]\n",
    "\n",
    "                            glga = bess2 * (omint2p - omint2m)\n",
    "\n",
    "                            dds = dds + 2 * Gamm * (grgl + glga)\n",
    "    return dds.real / (8*math.pi**3)\n"
   ]
  },
  {
   "cell_type": "markdown",
   "metadata": {},
   "source": [
    "# Mahmoud:\n",
    " \"The integrand is Ds(kx,ky,qx,qy)/(2*pi)^3, and the limits of integration are kx=[-pi/a,pi/a],ky=[-pi/a,pi/a] , qx=[-pi/a,pi/a] and qy=[-pi/a,pi/a].\"\n",
    "\n",
    "\"For qx and qy it is more efficient to use qx=[0.001,pi/a] and qy=0, because of the symmetry of the problem. kx and ky should be as we said before kx=[-pi/a,pi/a],ky=[-pi/a,pi/a].\""
   ]
  },
  {
   "cell_type": "code",
   "execution_count": 47,
   "metadata": {},
   "outputs": [
    {
     "data": {
      "text/plain": [
       "'\\n# Ensure that cuda is used\\n@cuda.jit(device=True)\\n # Makes the function below no longer callable, so a test evaluation can not be done with this.\\ndef Ds_real(y):\\n\\tval = Ds(y[0],y[1],y[2],y[3])\\n\\treturn val.real / (8*math.pi**3)\\n'"
      ]
     },
     "execution_count": 47,
     "metadata": {},
     "output_type": "execute_result"
    }
   ],
   "source": [
    "'''\n",
    "# Ensure that cuda is used\n",
    "@cuda.jit(device=True)\n",
    " # Makes the function below no longer callable, so a test evaluation can not be done with this.\n",
    "def Ds_real(y):\n",
    "\tval = Ds(y[0],y[1],y[2],y[3])\n",
    "\treturn val.real / (8*math.pi**3)\n",
    "''' "
   ]
  },
  {
   "cell_type": "markdown",
   "metadata": {},
   "source": [
    "Introducing suggested values of integration."
   ]
  },
  {
   "cell_type": "code",
   "execution_count": 48,
   "metadata": {},
   "outputs": [],
   "source": [
    "kxi = - math.pi / a\n",
    "kxf = math.pi / a\n",
    "\n",
    "kyi = - math.pi / a\n",
    "kyf = math.pi / a\n",
    "\n",
    "qxi = 0.001\n",
    "qxf = math.pi / a\n",
    "\n",
    "qyi = 0\n",
    "qyf = 0"
   ]
  },
  {
   "cell_type": "code",
   "execution_count": 49,
   "metadata": {},
   "outputs": [
    {
     "name": "stdout",
     "output_type": "stream",
     "text": [
      "The limits of integration:\n",
      "  kx = ( -0.7853981633974483 ,  0.7853981633974483 )\n",
      "  ky = ( -0.7853981633974483 ,  0.7853981633974483 )\n",
      "  qx = ( 0.001 ,  0.7853981633974483 )\n",
      "  qy = ( 0 ,  0 )\n"
     ]
    }
   ],
   "source": [
    "print('The limits of integration:')\n",
    "print('  kx = (', kxi, ', ', kxf, ')')\n",
    "print('  ky = (', kyi, ', ', kyf, ')')\n",
    "print('  qx = (', qxi, ', ', qxf, ')')\n",
    "print('  qy = (', qyi, ', ', qyf, ')')"
   ]
  },
  {
   "cell_type": "markdown",
   "metadata": {},
   "source": [
    "Creating the ZMCintegral object for evaluation."
   ]
  },
  {
   "cell_type": "code",
   "execution_count": 50,
   "metadata": {},
   "outputs": [],
   "source": [
    "MC = ZMCIntegral.MCintegral(modDs_real,[[kxi,kxf],[kyi,kyf],[qxi,qxf],[qyi,qyf]])\n",
    "\n",
    "# Setting the zmcintegral parameters\n",
    "MC.depth = 1\n",
    "MC.sigma_multiplication = 4\n",
    "MC.num_trials = 2\n",
    "MC.available_GPU=[0]"
   ]
  },
  {
   "cell_type": "code",
   "execution_count": 51,
   "metadata": {},
   "outputs": [
    {
     "name": "stdout",
     "output_type": "stream",
     "text": [
      "\n",
      "========================================================\n",
      "\n",
      "depth =  1\n",
      "sigma_multiplication =  4\n",
      "num_trials =  2\n",
      "available_GPU =  [0]\n",
      "\n",
      "========================================================\n"
     ]
    }
   ],
   "source": [
    "print('\\n========================================================')\n",
    "print('\\ndepth = ', MC.depth)\n",
    "print('sigma_multiplication = ', MC.sigma_multiplication)\n",
    "print('num_trials = ', MC.num_trials)\n",
    "print('available_GPU = ', MC.available_GPU)\n",
    "print('\\n========================================================')"
   ]
  },
  {
   "cell_type": "markdown",
   "metadata": {},
   "source": [
    "# Evaluating integral:"
   ]
  },
  {
   "cell_type": "code",
   "execution_count": 52,
   "metadata": {},
   "outputs": [
    {
     "name": "stderr",
     "output_type": "stream",
     "text": [
      "Process Process-13:\n",
      "Traceback (most recent call last):\n",
      "  File \"/home/jalenc/.conda/envs/ZMCIntegral/lib/python3.6/multiprocessing/process.py\", line 258, in _bootstrap\n",
      "    self.run()\n",
      "  File \"/home/jalenc/.conda/envs/ZMCIntegral/lib/python3.6/multiprocessing/process.py\", line 93, in run\n",
      "    self._target(*self._args, **self._kwargs)\n",
      "  File \"/home/jalenc/github/my-phys-util/ZMCIntegral/ZMCIntegral.py\", line 111, in multi_processing\n",
      "    result.append(self.MCkernel(domain, i_batch))\n",
      "  File \"/home/jalenc/github/my-phys-util/ZMCIntegral/ZMCIntegral.py\", line 373, in MCkernel\n",
      "    integration_kernel[blockspergrid, threadsperblock](num_loops,                                                           MCresult,                                                           chunk_size,                                                           n_chunk_x,                                                           domain,                                                           domain_range,                                                           batch_size,                                                           i_batch,                                                           rng_states,                                                           n_chunk)\n",
      "  File \"/home/jalenc/.conda/envs/ZMCIntegral/lib/python3.6/site-packages/numba/cuda/compiler.py\", line 765, in __call__\n",
      "    kernel = self.specialize(*args)\n",
      "  File \"/home/jalenc/.conda/envs/ZMCIntegral/lib/python3.6/site-packages/numba/cuda/compiler.py\", line 776, in specialize\n",
      "    kernel = self.compile(argtypes)\n",
      "  File \"/home/jalenc/.conda/envs/ZMCIntegral/lib/python3.6/site-packages/numba/cuda/compiler.py\", line 792, in compile\n",
      "    **self.targetoptions)\n",
      "  File \"/home/jalenc/.conda/envs/ZMCIntegral/lib/python3.6/site-packages/numba/compiler_lock.py\", line 32, in _acquire_compile_lock\n",
      "    return func(*args, **kwargs)\n",
      "  File \"/home/jalenc/.conda/envs/ZMCIntegral/lib/python3.6/site-packages/numba/cuda/compiler.py\", line 62, in compile_kernel\n",
      "    cres = compile_cuda(pyfunc, types.void, args, debug=debug, inline=inline)\n",
      "  File \"/home/jalenc/.conda/envs/ZMCIntegral/lib/python3.6/site-packages/numba/compiler_lock.py\", line 32, in _acquire_compile_lock\n",
      "    return func(*args, **kwargs)\n",
      "  File \"/home/jalenc/.conda/envs/ZMCIntegral/lib/python3.6/site-packages/numba/cuda/compiler.py\", line 51, in compile_cuda\n",
      "    locals={})\n",
      "  File \"/home/jalenc/.conda/envs/ZMCIntegral/lib/python3.6/site-packages/numba/compiler.py\", line 941, in compile_extra\n",
      "    return pipeline.compile_extra(func)\n",
      "  File \"/home/jalenc/.conda/envs/ZMCIntegral/lib/python3.6/site-packages/numba/compiler.py\", line 372, in compile_extra\n",
      "    return self._compile_bytecode()\n",
      "  File \"/home/jalenc/.conda/envs/ZMCIntegral/lib/python3.6/site-packages/numba/compiler.py\", line 872, in _compile_bytecode\n",
      "    return self._compile_core()\n",
      "  File \"/home/jalenc/.conda/envs/ZMCIntegral/lib/python3.6/site-packages/numba/compiler.py\", line 859, in _compile_core\n",
      "    res = pm.run(self.status)\n",
      "  File \"/home/jalenc/.conda/envs/ZMCIntegral/lib/python3.6/site-packages/numba/compiler_lock.py\", line 32, in _acquire_compile_lock\n",
      "    return func(*args, **kwargs)\n",
      "  File \"/home/jalenc/.conda/envs/ZMCIntegral/lib/python3.6/site-packages/numba/compiler.py\", line 253, in run\n",
      "    raise patched_exception\n",
      "  File \"/home/jalenc/.conda/envs/ZMCIntegral/lib/python3.6/site-packages/numba/compiler.py\", line 244, in run\n",
      "    stage()\n",
      "  File \"/home/jalenc/.conda/envs/ZMCIntegral/lib/python3.6/site-packages/numba/compiler.py\", line 500, in stage_nopython_frontend\n",
      "    self.locals)\n",
      "  File \"/home/jalenc/.conda/envs/ZMCIntegral/lib/python3.6/site-packages/numba/compiler.py\", line 1043, in type_inference_stage\n",
      "    infer.build_constraint()\n",
      "  File \"/home/jalenc/.conda/envs/ZMCIntegral/lib/python3.6/site-packages/numba/typeinfer.py\", line 817, in build_constraint\n",
      "    self.constrain_statement(inst)\n",
      "  File \"/home/jalenc/.conda/envs/ZMCIntegral/lib/python3.6/site-packages/numba/typeinfer.py\", line 1096, in constrain_statement\n",
      "    self.typeof_assign(inst)\n",
      "  File \"/home/jalenc/.conda/envs/ZMCIntegral/lib/python3.6/site-packages/numba/typeinfer.py\", line 1159, in typeof_assign\n",
      "    self.typeof_global(inst, inst.target, value)\n",
      "  File \"/home/jalenc/.conda/envs/ZMCIntegral/lib/python3.6/site-packages/numba/typeinfer.py\", line 1256, in typeof_global\n",
      "    typ = self.resolve_value_type(inst, gvar.value)\n",
      "  File \"/home/jalenc/.conda/envs/ZMCIntegral/lib/python3.6/site-packages/numba/typeinfer.py\", line 1180, in resolve_value_type\n",
      "    raise TypingError(msg, loc=inst.loc)\n",
      "numba.errors.TypingError: Failed in nopython mode pipeline (step: nopython frontend)\n",
      "Untyped global name 'fun': cannot determine Numba type of <class 'numba.cuda.compiler.AutoJitCUDAKernel'>\n",
      "\n",
      "File \"ZMCIntegral.py\", line 365:\n",
      "        def integration_kernel(num_loops,                               MCresult,                               chunk_size,                               n_chunk_x,                               domain,                               domain_range,                               batch_size,                               i_batch,                               rng_states,                               n_chunk):\n",
      "            <source elided>\n",
      "                        # feed in values to user defined function\n",
      "                        cuda.atomic.add(MCresult, thread_id, fun(x_tuple))\n",
      "                        ^\n",
      "\n"
     ]
    },
    {
     "ename": "FileNotFoundError",
     "evalue": "[Errno 2] No such file or directory: '/home/jalenc/github/my-phys-util/ZMCIntegral/multi_temp/result0.npy'",
     "output_type": "error",
     "traceback": [
      "\u001b[0;31m---------------------------------------------------------------------------\u001b[0m",
      "\u001b[0;31mFileNotFoundError\u001b[0m                         Traceback (most recent call last)",
      "\u001b[0;32m<ipython-input-52-96ff7b1bb64e>\u001b[0m in \u001b[0;36m<module>\u001b[0;34m\u001b[0m\n\u001b[0;32m----> 1\u001b[0;31m \u001b[0mresult\u001b[0m \u001b[0;34m=\u001b[0m \u001b[0mMC\u001b[0m\u001b[0;34m.\u001b[0m\u001b[0mevaluate\u001b[0m\u001b[0;34m(\u001b[0m\u001b[0;34m)\u001b[0m\u001b[0;34m\u001b[0m\u001b[0;34m\u001b[0m\u001b[0m\n\u001b[0m",
      "\u001b[0;32m~/github/my-phys-util/ZMCIntegral/ZMCIntegral.py\u001b[0m in \u001b[0;36mevaluate\u001b[0;34m(self)\u001b[0m\n\u001b[1;32m     72\u001b[0m     \u001b[0;32mdef\u001b[0m \u001b[0mevaluate\u001b[0m\u001b[0;34m(\u001b[0m\u001b[0mself\u001b[0m\u001b[0;34m)\u001b[0m\u001b[0;34m:\u001b[0m\u001b[0;34m\u001b[0m\u001b[0;34m\u001b[0m\u001b[0m\n\u001b[1;32m     73\u001b[0m         \u001b[0mself\u001b[0m\u001b[0;34m.\u001b[0m\u001b[0mconfigure_chunks\u001b[0m\u001b[0;34m(\u001b[0m\u001b[0;34m)\u001b[0m\u001b[0;34m\u001b[0m\u001b[0;34m\u001b[0m\u001b[0m\n\u001b[0;32m---> 74\u001b[0;31m         \u001b[0mMCresult\u001b[0m \u001b[0;34m=\u001b[0m \u001b[0mself\u001b[0m\u001b[0;34m.\u001b[0m\u001b[0mimportance_sampling_iteration\u001b[0m\u001b[0;34m(\u001b[0m\u001b[0mself\u001b[0m\u001b[0;34m.\u001b[0m\u001b[0minitial_domain\u001b[0m\u001b[0;34m,\u001b[0m \u001b[0;36m0\u001b[0m\u001b[0;34m)\u001b[0m\u001b[0;34m\u001b[0m\u001b[0;34m\u001b[0m\u001b[0m\n\u001b[0m\u001b[1;32m     75\u001b[0m \u001b[0;34m\u001b[0m\u001b[0m\n\u001b[1;32m     76\u001b[0m         \u001b[0;32mreturn\u001b[0m \u001b[0mMCresult\u001b[0m\u001b[0;34m\u001b[0m\u001b[0;34m\u001b[0m\u001b[0m\n",
      "\u001b[0;32m~/github/my-phys-util/ZMCIntegral/ZMCIntegral.py\u001b[0m in \u001b[0;36mimportance_sampling_iteration\u001b[0;34m(self, domain, depth)\u001b[0m\n\u001b[1;32m     78\u001b[0m     \u001b[0;32mdef\u001b[0m \u001b[0mimportance_sampling_iteration\u001b[0m\u001b[0;34m(\u001b[0m\u001b[0mself\u001b[0m\u001b[0;34m,\u001b[0m \u001b[0mdomain\u001b[0m\u001b[0;34m,\u001b[0m \u001b[0mdepth\u001b[0m\u001b[0;34m)\u001b[0m\u001b[0;34m:\u001b[0m\u001b[0;34m\u001b[0m\u001b[0;34m\u001b[0m\u001b[0m\n\u001b[1;32m     79\u001b[0m         \u001b[0mdepth\u001b[0m \u001b[0;34m+=\u001b[0m \u001b[0;36m1\u001b[0m\u001b[0;34m\u001b[0m\u001b[0;34m\u001b[0m\u001b[0m\n\u001b[0;32m---> 80\u001b[0;31m         \u001b[0mMCresult_chunks\u001b[0m\u001b[0;34m,\u001b[0m \u001b[0mlarge_std_chunk_id\u001b[0m\u001b[0;34m,\u001b[0m \u001b[0mMCresult_std_chunks\u001b[0m \u001b[0;34m=\u001b[0m \u001b[0mself\u001b[0m\u001b[0;34m.\u001b[0m\u001b[0mMCevaluate\u001b[0m\u001b[0;34m(\u001b[0m\u001b[0mdomain\u001b[0m\u001b[0;34m)\u001b[0m\u001b[0;34m\u001b[0m\u001b[0;34m\u001b[0m\u001b[0m\n\u001b[0m\u001b[1;32m     81\u001b[0m         \u001b[0mprint\u001b[0m\u001b[0;34m(\u001b[0m\u001b[0;34m'{} hypercube(s) need(s) to be recalculated, to save time, try drastically increasing sigma_multiplication.'\u001b[0m\u001b[0;34m.\u001b[0m\u001b[0mformat\u001b[0m\u001b[0;34m(\u001b[0m\u001b[0mlen\u001b[0m\u001b[0;34m(\u001b[0m\u001b[0mlarge_std_chunk_id\u001b[0m\u001b[0;34m)\u001b[0m\u001b[0;34m)\u001b[0m\u001b[0;34m)\u001b[0m\u001b[0;34m\u001b[0m\u001b[0;34m\u001b[0m\u001b[0m\n\u001b[1;32m     82\u001b[0m         \u001b[0;32mif\u001b[0m \u001b[0mdepth\u001b[0m \u001b[0;34m<\u001b[0m \u001b[0mself\u001b[0m\u001b[0;34m.\u001b[0m\u001b[0mdepth\u001b[0m\u001b[0;34m:\u001b[0m\u001b[0;34m\u001b[0m\u001b[0;34m\u001b[0m\u001b[0m\n",
      "\u001b[0;32m~/github/my-phys-util/ZMCIntegral/ZMCIntegral.py\u001b[0m in \u001b[0;36mMCevaluate\u001b[0;34m(self, domain)\u001b[0m\n\u001b[1;32m    128\u001b[0m         \u001b[0mMCresult_std\u001b[0m \u001b[0;34m=\u001b[0m \u001b[0;34m[\u001b[0m\u001b[0;34m]\u001b[0m\u001b[0;34m\u001b[0m\u001b[0;34m\u001b[0m\u001b[0m\n\u001b[1;32m    129\u001b[0m         \u001b[0;32mfor\u001b[0m \u001b[0mi_batch\u001b[0m \u001b[0;32min\u001b[0m \u001b[0mrange\u001b[0m\u001b[0;34m(\u001b[0m\u001b[0mself\u001b[0m\u001b[0;34m.\u001b[0m\u001b[0mn_batches\u001b[0m\u001b[0;34m)\u001b[0m\u001b[0;34m:\u001b[0m\u001b[0;34m\u001b[0m\u001b[0;34m\u001b[0m\u001b[0m\n\u001b[0;32m--> 130\u001b[0;31m             \u001b[0mMCresult\u001b[0m\u001b[0;34m.\u001b[0m\u001b[0mappend\u001b[0m\u001b[0;34m(\u001b[0m\u001b[0mnp\u001b[0m\u001b[0;34m.\u001b[0m\u001b[0mload\u001b[0m\u001b[0;34m(\u001b[0m\u001b[0mos\u001b[0m\u001b[0;34m.\u001b[0m\u001b[0mgetcwd\u001b[0m\u001b[0;34m(\u001b[0m\u001b[0;34m)\u001b[0m\u001b[0;34m+\u001b[0m\u001b[0;34m'/multi_temp/result'\u001b[0m\u001b[0;34m+\u001b[0m\u001b[0mstr\u001b[0m\u001b[0;34m(\u001b[0m\u001b[0mi_batch\u001b[0m\u001b[0;34m)\u001b[0m\u001b[0;34m+\u001b[0m\u001b[0;34m'.npy'\u001b[0m\u001b[0;34m)\u001b[0m\u001b[0;34m)\u001b[0m\u001b[0;34m\u001b[0m\u001b[0;34m\u001b[0m\u001b[0m\n\u001b[0m\u001b[1;32m    131\u001b[0m             \u001b[0mMCresult_std\u001b[0m\u001b[0;34m.\u001b[0m\u001b[0mappend\u001b[0m\u001b[0;34m(\u001b[0m\u001b[0mnp\u001b[0m\u001b[0;34m.\u001b[0m\u001b[0mload\u001b[0m\u001b[0;34m(\u001b[0m\u001b[0mos\u001b[0m\u001b[0;34m.\u001b[0m\u001b[0mgetcwd\u001b[0m\u001b[0;34m(\u001b[0m\u001b[0;34m)\u001b[0m\u001b[0;34m+\u001b[0m\u001b[0;34m'/multi_temp/result_std'\u001b[0m\u001b[0;34m+\u001b[0m\u001b[0mstr\u001b[0m\u001b[0;34m(\u001b[0m\u001b[0mi_batch\u001b[0m\u001b[0;34m)\u001b[0m\u001b[0;34m+\u001b[0m\u001b[0;34m'.npy'\u001b[0m\u001b[0;34m)\u001b[0m\u001b[0;34m)\u001b[0m\u001b[0;34m\u001b[0m\u001b[0;34m\u001b[0m\u001b[0m\n\u001b[1;32m    132\u001b[0m \u001b[0;34m\u001b[0m\u001b[0m\n",
      "\u001b[0;32m~/.conda/envs/ZMCIntegral/lib/python3.6/site-packages/numpy/lib/npyio.py\u001b[0m in \u001b[0;36mload\u001b[0;34m(file, mmap_mode, allow_pickle, fix_imports, encoding)\u001b[0m\n\u001b[1;32m    420\u001b[0m         \u001b[0mown_fid\u001b[0m \u001b[0;34m=\u001b[0m \u001b[0;32mFalse\u001b[0m\u001b[0;34m\u001b[0m\u001b[0;34m\u001b[0m\u001b[0m\n\u001b[1;32m    421\u001b[0m     \u001b[0;32melse\u001b[0m\u001b[0;34m:\u001b[0m\u001b[0;34m\u001b[0m\u001b[0;34m\u001b[0m\u001b[0m\n\u001b[0;32m--> 422\u001b[0;31m         \u001b[0mfid\u001b[0m \u001b[0;34m=\u001b[0m \u001b[0mopen\u001b[0m\u001b[0;34m(\u001b[0m\u001b[0mos_fspath\u001b[0m\u001b[0;34m(\u001b[0m\u001b[0mfile\u001b[0m\u001b[0;34m)\u001b[0m\u001b[0;34m,\u001b[0m \u001b[0;34m\"rb\"\u001b[0m\u001b[0;34m)\u001b[0m\u001b[0;34m\u001b[0m\u001b[0;34m\u001b[0m\u001b[0m\n\u001b[0m\u001b[1;32m    423\u001b[0m         \u001b[0mown_fid\u001b[0m \u001b[0;34m=\u001b[0m \u001b[0;32mTrue\u001b[0m\u001b[0;34m\u001b[0m\u001b[0;34m\u001b[0m\u001b[0m\n\u001b[1;32m    424\u001b[0m \u001b[0;34m\u001b[0m\u001b[0m\n",
      "\u001b[0;31mFileNotFoundError\u001b[0m: [Errno 2] No such file or directory: '/home/jalenc/github/my-phys-util/ZMCIntegral/multi_temp/result0.npy'"
     ]
    }
   ],
   "source": [
    "result = MC.evaluate()"
   ]
  },
  {
   "cell_type": "code",
   "execution_count": 38,
   "metadata": {},
   "outputs": [
    {
     "name": "stdout",
     "output_type": "stream",
     "text": [
      "\n",
      "========================================================\n",
      "Integration is complete!\n",
      "\n",
      "========================================================\n"
     ]
    },
    {
     "ename": "NameError",
     "evalue": "name 'result' is not defined",
     "output_type": "error",
     "traceback": [
      "\u001b[0;31m---------------------------------------------------------------------------\u001b[0m",
      "\u001b[0;31mNameError\u001b[0m                                 Traceback (most recent call last)",
      "\u001b[0;32m<ipython-input-38-af11ea3774f0>\u001b[0m in \u001b[0;36m<module>\u001b[0;34m\u001b[0m\n\u001b[1;32m      2\u001b[0m \u001b[0mprint\u001b[0m\u001b[0;34m(\u001b[0m\u001b[0;34m'Integration is complete!'\u001b[0m\u001b[0;34m)\u001b[0m\u001b[0;34m\u001b[0m\u001b[0;34m\u001b[0m\u001b[0m\n\u001b[1;32m      3\u001b[0m \u001b[0mprint\u001b[0m\u001b[0;34m(\u001b[0m\u001b[0;34m'\\n========================================================'\u001b[0m\u001b[0;34m)\u001b[0m\u001b[0;34m\u001b[0m\u001b[0;34m\u001b[0m\u001b[0m\n\u001b[0;32m----> 4\u001b[0;31m \u001b[0mprint\u001b[0m\u001b[0;34m(\u001b[0m\u001b[0;34m'Result: '\u001b[0m\u001b[0;34m,\u001b[0m \u001b[0mresult\u001b[0m\u001b[0;34m[\u001b[0m\u001b[0;36m0\u001b[0m\u001b[0;34m]\u001b[0m\u001b[0;34m)\u001b[0m\u001b[0;34m\u001b[0m\u001b[0;34m\u001b[0m\u001b[0m\n\u001b[0m\u001b[1;32m      5\u001b[0m \u001b[0mprint\u001b[0m\u001b[0;34m(\u001b[0m\u001b[0;34m'std.  : '\u001b[0m\u001b[0;34m,\u001b[0m \u001b[0mresult\u001b[0m\u001b[0;34m[\u001b[0m\u001b[0;36m1\u001b[0m\u001b[0;34m]\u001b[0m\u001b[0;34m)\u001b[0m\u001b[0;34m\u001b[0m\u001b[0;34m\u001b[0m\u001b[0m\n\u001b[1;32m      6\u001b[0m \u001b[0mprint\u001b[0m\u001b[0;34m(\u001b[0m\u001b[0;34m'Computed in '\u001b[0m\u001b[0;34m,\u001b[0m \u001b[0mend\u001b[0m\u001b[0;34m-\u001b[0m\u001b[0mstart\u001b[0m\u001b[0;34m,\u001b[0m \u001b[0;34m' seconds.'\u001b[0m\u001b[0;34m)\u001b[0m\u001b[0;34m\u001b[0m\u001b[0;34m\u001b[0m\u001b[0m\n",
      "\u001b[0;31mNameError\u001b[0m: name 'result' is not defined"
     ]
    }
   ],
   "source": [
    "print('\\n========================================================')\n",
    "print('Integration is complete!')\n",
    "print('\\n========================================================')\n",
    "print('Result: ', result[0])\n",
    "print('std.  : ', result[1])\n",
    "print('Computed in ', end-start, ' seconds.')\n",
    "print('\\n========================================================')"
   ]
  },
  {
   "cell_type": "code",
   "execution_count": null,
   "metadata": {},
   "outputs": [],
   "source": []
  },
  {
   "cell_type": "code",
   "execution_count": null,
   "metadata": {},
   "outputs": [],
   "source": []
  },
  {
   "cell_type": "code",
   "execution_count": null,
   "metadata": {},
   "outputs": [],
   "source": []
  }
 ],
 "metadata": {
  "kernelspec": {
   "display_name": "Python 3",
   "language": "python",
   "name": "python3"
  },
  "language_info": {
   "codemirror_mode": {
    "name": "ipython",
    "version": 3
   },
   "file_extension": ".py",
   "mimetype": "text/x-python",
   "name": "python",
   "nbconvert_exporter": "python",
   "pygments_lexer": "ipython3",
   "version": "3.6.8"
  }
 },
 "nbformat": 4,
 "nbformat_minor": 2
}
