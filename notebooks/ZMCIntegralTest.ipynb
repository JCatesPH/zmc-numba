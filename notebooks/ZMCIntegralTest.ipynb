{
 "cells": [
  {
   "cell_type": "markdown",
   "metadata": {},
   "source": [
    "# Testing example from github to see ZMCIntegral is working correctly.\n",
    "https://github.com/Letianwu/ZMCintegral\n",
    "\n",
    "It is the integration of this function:\n",
    "https://github.com/Letianwu/ZMCintegral/blob/master/examples/example01.png?raw=true"
   ]
  },
  {
   "cell_type": "code",
   "execution_count": 1,
   "metadata": {},
   "outputs": [],
   "source": [
    "import math\n",
    "from numba import cuda\n",
    "from ZMCintegral import ZMCintegral\n",
    "import time"
   ]
  },
  {
   "cell_type": "code",
   "execution_count": 2,
   "metadata": {},
   "outputs": [],
   "source": [
    "# user defined function\n",
    "@cuda.jit(device=True)\n",
    "def my_func(x):\n",
    "    return math.sin(x[0]+x[1]+x[2]+x[3])\n",
    "\n",
    "MC = ZMCintegral.MCintegral(my_func,[[0,1],[0,2],[0,5],[0,0.6]])\n",
    "\n",
    "MC.depth = 2\n",
    "MC.sigma_multiplication = 5\n",
    "MC.num_trials = 5"
   ]
  },
  {
   "cell_type": "code",
   "execution_count": 3,
   "metadata": {},
   "outputs": [
    {
     "name": "stdout",
     "output_type": "stream",
     "text": [
      "1 hypercube(s) need(s) to be recalculated, to save time, try drastically increasing sigma_multiplication.\n",
      "3 hypercube(s) need(s) to be recalculated, to save time, try drastically increasing sigma_multiplication.\n",
      "result = -1.0458666470120666    std = 7.69669441055053e-06\n",
      "This was calculated in 45.37978792190552 s\n"
     ]
    }
   ],
   "source": [
    "# obtaining the result\n",
    "t0 = time.time()\n",
    "result = MC.evaluate()\n",
    "t1 = time.time()\n",
    "\n",
    "# print the formatted result\n",
    "print('result = %s    std = %s' % (result[0], result[1]))\n",
    "print('This was calculated in', t1-t0, 's')"
   ]
  },
  {
   "cell_type": "markdown",
   "metadata": {},
   "source": [
    "# Integration of Gaussian function for testing.\n",
    "\n",
    "This function with 9 variables was tested in the paper. \n",
    "https://arxiv.org/pdf/1902.07916.pdf\n",
    "\n",
    "NOTE: \"sigma_multiplication\" is set to 7 to speed up the calculation, but the value should be lower in real applications."
   ]
  },
  {
   "cell_type": "code",
   "execution_count": 4,
   "metadata": {},
   "outputs": [],
   "source": [
    "import math\n",
    "from numba import cuda\n",
    "from ZMCintegral import ZMCintegral\n",
    "import time"
   ]
  },
  {
   "cell_type": "code",
   "execution_count": 5,
   "metadata": {},
   "outputs": [],
   "source": [
    "# user defined function\n",
    "@cuda.jit(device=True)\n",
    "# encoding: utf-8\n",
    "\n",
    "def gauss_func(x):\n",
    "    s = 0.01\n",
    "    return math.exp(-1/(2*s**2)*(x[0]**2+x[1]**2+x[2]**2+x[3]**2))/(math.sqrt(2*3.14)*s)**4\n",
    "\n",
    "MC2 = ZMCintegral.MCintegral(gauss_func,[[-1,1],[-1,1],[-1,1],[-1,1]])\n",
    "\n",
    "MC2.depth = 2\n",
    "MC2.sigma_multiplication = 7\n",
    "MC2.num_trials = 5"
   ]
  },
  {
   "cell_type": "code",
   "execution_count": 6,
   "metadata": {},
   "outputs": [
    {
     "name": "stdout",
     "output_type": "stream",
     "text": [
      "16 hypercube(s) need(s) to be recalculated, to save time, try drastically increasing sigma_multiplication.\n",
      "221 hypercube(s) need(s) to be recalculated, to save time, try drastically increasing sigma_multiplication.\n",
      "229 hypercube(s) need(s) to be recalculated, to save time, try drastically increasing sigma_multiplication.\n",
      "243 hypercube(s) need(s) to be recalculated, to save time, try drastically increasing sigma_multiplication.\n",
      "243 hypercube(s) need(s) to be recalculated, to save time, try drastically increasing sigma_multiplication.\n",
      "243 hypercube(s) need(s) to be recalculated, to save time, try drastically increasing sigma_multiplication.\n",
      "224 hypercube(s) need(s) to be recalculated, to save time, try drastically increasing sigma_multiplication.\n",
      "252 hypercube(s) need(s) to be recalculated, to save time, try drastically increasing sigma_multiplication.\n",
      "225 hypercube(s) need(s) to be recalculated, to save time, try drastically increasing sigma_multiplication.\n",
      "219 hypercube(s) need(s) to be recalculated, to save time, try drastically increasing sigma_multiplication.\n",
      "242 hypercube(s) need(s) to be recalculated, to save time, try drastically increasing sigma_multiplication.\n",
      "233 hypercube(s) need(s) to be recalculated, to save time, try drastically increasing sigma_multiplication.\n",
      "235 hypercube(s) need(s) to be recalculated, to save time, try drastically increasing sigma_multiplication.\n",
      "228 hypercube(s) need(s) to be recalculated, to save time, try drastically increasing sigma_multiplication.\n",
      "243 hypercube(s) need(s) to be recalculated, to save time, try drastically increasing sigma_multiplication.\n",
      "232 hypercube(s) need(s) to be recalculated, to save time, try drastically increasing sigma_multiplication.\n",
      "232 hypercube(s) need(s) to be recalculated, to save time, try drastically increasing sigma_multiplication.\n",
      "result = 1.0010120492207544    std = 3.582937826059365e-05\n",
      "This was calculated in 459.6443920135498 s\n"
     ]
    }
   ],
   "source": [
    "# obtaining the result\n",
    "t0 = time.time()\n",
    "result = MC2.evaluate()\n",
    "t1 = time.time()\n",
    "\n",
    "# print the formatted result\n",
    "print('result = %s    std = %s' % (result[0], result[1]))\n",
    "print('This was calculated in', t1-t0, 's')"
   ]
  },
  {
   "cell_type": "code",
   "execution_count": 1,
   "metadata": {},
   "outputs": [
    {
     "ename": "NameError",
     "evalue": "name 'MC2' is not defined",
     "output_type": "error",
     "traceback": [
      "\u001b[0;31m---------------------------------------------------------------------------\u001b[0m",
      "\u001b[0;31mNameError\u001b[0m                                 Traceback (most recent call last)",
      "\u001b[0;32m<ipython-input-1-78cb9c14adda>\u001b[0m in \u001b[0;36m<module>\u001b[0;34m\u001b[0m\n\u001b[0;32m----> 1\u001b[0;31m \u001b[0mprint\u001b[0m\u001b[0;34m(\u001b[0m\u001b[0mMC2\u001b[0m\u001b[0;34m.\u001b[0m\u001b[0mMCresult_chunks\u001b[0m\u001b[0;34m)\u001b[0m\u001b[0;34m\u001b[0m\u001b[0;34m\u001b[0m\u001b[0m\n\u001b[0m",
      "\u001b[0;31mNameError\u001b[0m: name 'MC2' is not defined"
     ]
    }
   ],
   "source": [
    "print(MC2.MCresult_chunks)"
   ]
  },
  {
   "cell_type": "code",
   "execution_count": null,
   "metadata": {},
   "outputs": [],
   "source": []
  }
 ],
 "metadata": {
  "kernelspec": {
   "display_name": "Python 3",
   "language": "python",
   "name": "python3"
  },
  "language_info": {
   "codemirror_mode": {
    "name": "ipython",
    "version": 3
   },
   "file_extension": ".py",
   "mimetype": "text/x-python",
   "name": "python",
   "nbconvert_exporter": "python",
   "pygments_lexer": "ipython3",
   "version": "3.6.8"
  }
 },
 "nbformat": 4,
 "nbformat_minor": 2
}
