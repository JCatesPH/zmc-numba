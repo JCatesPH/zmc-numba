{
 "cells": [
  {
   "cell_type": "code",
   "execution_count": 37,
   "metadata": {},
   "outputs": [],
   "source": [
    "import time\n",
    "import math\n",
    "import numpy as np\n",
    "import scipy\n",
    "from scipy import special"
   ]
  },
  {
   "cell_type": "code",
   "execution_count": 38,
   "metadata": {},
   "outputs": [],
   "source": [
    "def my_Besselv(v, z):\n",
    "    m = 20\n",
    "    # WILL NOT WORK IF v IS NOT AN INTEGER\n",
    "    # Conditional to handle case of negative v.\n",
    "    if(v < 0):\n",
    "        v = abs(v)\n",
    "        resultsign = (-1) ** v\n",
    "    else:\n",
    "        resultsign = 1\n",
    "    result = 0\n",
    "    # Loop to construct Bessel series sum.\n",
    "    for n in range(0,m):\n",
    "        sign = (-1)**n\n",
    "        exp = 2 * n + v\n",
    "        term = z ** exp\n",
    "        r = n + v + 1\n",
    "        if(r == 0):\n",
    "            r = 1e-15\n",
    "        gamma = int(math.gamma(r))\n",
    "        factorial = int(math.gamma(n+1))\n",
    "        twoexp = 2 ** exp\n",
    "        denom = twoexp * factorial * gamma\n",
    "        term = term / denom * sign\n",
    "        result = result + term\n",
    "        \n",
    "    return result * resultsign"
   ]
  },
  {
   "cell_type": "code",
   "execution_count": 39,
   "metadata": {},
   "outputs": [
    {
     "name": "stdout",
     "output_type": "stream",
     "text": [
      "-0.26005195490193334\n",
      "relative error =  -6.661338147750939e-16\n"
     ]
    }
   ],
   "source": [
    "official = scipy.special.jv(0,3)\n",
    "mine = my_Besselv(0,3)\n",
    "\n",
    "print(mine)\n",
    "print('relative error = ', mine/official-1)"
   ]
  },
  {
   "cell_type": "code",
   "execution_count": 46,
   "metadata": {},
   "outputs": [],
   "source": [
    "def BesselCoef(n,v):\n",
    "    coef = 4 * v ** 2 - 1\n",
    "    for i in range(1,n):\n",
    "        coef = coef * (4 * v**2 - (2 * i - 1)**2)\n",
    "    denom = 8**n * math.gamma(n+1)\n",
    "    return coef / denom\n",
    "\n",
    "def arbBessel(v, z, m):\n",
    "    omega = z - math.pi * v / 2 - math.pi / 4\n",
    "    \n",
    "    costerm = 0\n",
    "    for n in range(0,m):\n",
    "        sign = (-1)**n\n",
    "        ai = BesselCoef(2*n,v)\n",
    "        denom = z ** (2*n)\n",
    "        costerm = costerm + sign * ai / denom\n",
    "    costerm = costerm * math.cos(omega)\n",
    "    \n",
    "    sinterm = 0\n",
    "    for n in range(0,m):\n",
    "        sign = (-1)**n\n",
    "        ai = BesselCoef(2*n+1,v)\n",
    "        denom = z ** (2*n+1)\n",
    "        sinterm = sinterm + sign * ai / denom\n",
    "    sinterm = sinterm * math.sin(omega)\n",
    "    \n",
    "    coef = math.sqrt(2 / (math.pi * z))\n",
    "    result = costerm - sinterm\n",
    "    return - result * coef"
   ]
  },
  {
   "cell_type": "code",
   "execution_count": 52,
   "metadata": {},
   "outputs": [
    {
     "name": "stdout",
     "output_type": "stream",
     "text": [
      "0.019098221415323892\n",
      "-9.175839197000559e+55\n",
      "relative error =  -4.8045516896343636e+57\n",
      "0.01911489997284755\n",
      "relative error =  0.0008733042287527581\n"
     ]
    }
   ],
   "source": [
    "official = scipy.special.jv(0,471)\n",
    "mine = my_Besselv(0,471)\n",
    "mine2 = arbBessel(0,471, 40)\n",
    "\n",
    "\n",
    "print(official)\n",
    "print(mine)\n",
    "print('relative error = ', mine/official-1)\n",
    "print(mine2)\n",
    "print('relative error = ', mine2/official-1)"
   ]
  },
  {
   "cell_type": "code",
   "execution_count": null,
   "metadata": {},
   "outputs": [],
   "source": []
  }
 ],
 "metadata": {
  "kernelspec": {
   "display_name": "Python 3",
   "language": "python",
   "name": "python3"
  },
  "language_info": {
   "codemirror_mode": {
    "name": "ipython",
    "version": 3
   },
   "file_extension": ".py",
   "mimetype": "text/x-python",
   "name": "python",
   "nbconvert_exporter": "python",
   "pygments_lexer": "ipython3",
   "version": "3.6.8"
  }
 },
 "nbformat": 4,
 "nbformat_minor": 2
}
