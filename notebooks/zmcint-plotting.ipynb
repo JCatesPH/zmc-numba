{
 "cells": [
  {
   "cell_type": "markdown",
   "metadata": {},
   "source": [
    "# Testing example from github to see ZMCIntegral plotting.\n",
    "https://github.com/Letianwu/ZMCintegral\n",
    "\n",
    "It is the integration of this function:\n",
    "https://github.com/Letianwu/ZMCintegral/blob/master/examples/example01.png?raw=true"
   ]
  },
  {
   "cell_type": "code",
   "execution_count": 14,
   "metadata": {},
   "outputs": [],
   "source": [
    "import math\n",
    "from numba import cuda\n",
    "from ZMCintegral import ZMCintegral\n",
    "import time"
   ]
  },
  {
   "cell_type": "code",
   "execution_count": 15,
   "metadata": {},
   "outputs": [],
   "source": [
    "# user defined function\n",
    "@cuda.jit(device=True)\n",
    "def my_func(x):\n",
    "    return math.sin(x[0]+x[1]+x[2]+x[3])\n",
    "\n",
    "MC = ZMCintegral.MCintegral(my_func,[[0,1],[0,2],[0,5],[0,0.6]])\n",
    "\n",
    "MC.depth = 2\n",
    "MC.sigma_multiplication = 10\n",
    "MC.num_trials = 5"
   ]
  },
  {
   "cell_type": "code",
   "execution_count": 16,
   "metadata": {},
   "outputs": [
    {
     "name": "stdout",
     "output_type": "stream",
     "text": [
      "0 hypercube(s) need(s) to be recalculated, to save time, try drastically increasing sigma_multiplication.\n",
      "result = -1.0458901950458932    std = 7.70994630577083e-06\n",
      "This was calculated in 22.55733323097229 s\n"
     ]
    }
   ],
   "source": [
    "# obtaining the result\n",
    "t0 = time.time()\n",
    "result = MC.evaluate()\n",
    "t1 = time.time()\n",
    "\n",
    "# print the formatted result\n",
    "print('result = %s    std = %s' % (result[0], result[1]))\n",
    "print('This was calculated in', t1-t0, 's')"
   ]
  },
  {
   "cell_type": "markdown",
   "metadata": {},
   "source": [
    "# Now to test plotting with matplotlib\n",
    "https://matplotlib.org/tutorials/introductory/usage.html#sphx-glr-tutorials-introductory-usage-py"
   ]
  },
  {
   "cell_type": "code",
   "execution_count": 18,
   "metadata": {},
   "outputs": [
    {
     "ename": "NameError",
     "evalue": "name 'ZMCIntegral' is not defined",
     "output_type": "error",
     "traceback": [
      "\u001b[0;31m---------------------------------------------------------------------------\u001b[0m",
      "\u001b[0;31mNameError\u001b[0m                                 Traceback (most recent call last)",
      "\u001b[0;32m<ipython-input-18-7c3443897a2a>\u001b[0m in \u001b[0;36m<module>\u001b[0;34m\u001b[0m\n\u001b[0;32m----> 1\u001b[0;31m \u001b[0mprint\u001b[0m\u001b[0;34m(\u001b[0m\u001b[0mZMCIntegral\u001b[0m\u001b[0;34m.\u001b[0m\u001b[0mCHUNK_RESULTS\u001b[0m\u001b[0;34m)\u001b[0m\u001b[0;34m\u001b[0m\u001b[0;34m\u001b[0m\u001b[0m\n\u001b[0m",
      "\u001b[0;31mNameError\u001b[0m: name 'ZMCIntegral' is not defined"
     ]
    }
   ],
   "source": [
    "print(CHUNK_RESULTS)"
   ]
  },
  {
   "cell_type": "markdown",
   "metadata": {},
   "source": [
    "# Plotting of integrand of Ds(kx,ky) for series of qx\n",
    "\n",
    "The integral was evaluated with: kx = \\[-pi/a,pi/a\\], ky = \\[-pi/a,pi/a\\]"
   ]
  },
  {
   "cell_type": "code",
   "execution_count": null,
   "metadata": {},
   "outputs": [],
   "source": []
  }
 ],
 "metadata": {
  "kernelspec": {
   "display_name": "Python 3",
   "language": "python",
   "name": "python3"
  },
  "language_info": {
   "codemirror_mode": {
    "name": "ipython",
    "version": 3
   },
   "file_extension": ".py",
   "mimetype": "text/x-python",
   "name": "python",
   "nbconvert_exporter": "python",
   "pygments_lexer": "ipython3",
   "version": "3.6.8"
  }
 },
 "nbformat": 4,
 "nbformat_minor": 2
}
